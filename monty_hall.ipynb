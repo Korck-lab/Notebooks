{
  "nbformat": 4,
  "nbformat_minor": 0,
  "metadata": {
    "colab": {
      "provenance": [],
      "authorship_tag": "ABX9TyPfMZi477eMvDRQv8anlkWu",
      "include_colab_link": true
    },
    "kernelspec": {
      "name": "python3",
      "display_name": "Python 3"
    },
    "language_info": {
      "name": "python"
    }
  },
  "cells": [
    {
      "cell_type": "markdown",
      "metadata": {
        "id": "view-in-github",
        "colab_type": "text"
      },
      "source": [
        "<a href=\"https://colab.research.google.com/github/Korck666/Notebooks/blob/main/monty_hall.ipynb\" target=\"_parent\"><img src=\"https://colab.research.google.com/assets/colab-badge.svg\" alt=\"Open In Colab\"/></a>"
      ]
    },
    {
      "cell_type": "markdown",
      "source": [
        "![Monty_open_door.svg](data:image/svg+xml;base64,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)\n",
        "#[Monty Hall problem](https://en.wikipedia.org/wiki/Monty_Hall_problem)\n",
        "\n",
        "\n",
        "---\n",
        "### In search of a new car, the player picks a door, say 1. The game host then opens one of the other doors, say 3, to reveal a goat and offers to let the player switch from door 1 to door 2.\n"
      ],
      "metadata": {
        "id": "6BaOq3gbACIM"
      }
    },
    {
      "cell_type": "markdown",
      "source": [
        "## Game rules\n",
        "---\n",
        "According to the rules of the game, among the various \"***doors***,\" it is guaranteed that only one door will give access to the desired reward. The other doors will not.\n",
        "> there are only 2 possibles outcomes from any door, the ***`prize`***, or a ***`goat`***;\n",
        "\n",
        "> must have ONE and only one door with `prize`;\n",
        "\n",
        "> `open`, `closed` and `player` are the possible states of a door; \n",
        "\n",
        "> all doors will be `closed` at the beginning;\n",
        "\n",
        "> the game cannot `open` the `player`'s door."
      ],
      "metadata": {
        "id": "OqDd-7F92H69"
      }
    },
    {
      "cell_type": "markdown",
      "source": [
        "> `prize` has a fixed frequency of `1/N`, where `N` is the number of the ***doors*** in the game.\n",
        ">> when `2 > N > 2`, the game presents a *class imbalance* problem\n",
        "\n",
        ">The game plays with a class imbalance in favors to the \"***goat***\" class\n",
        ">>let's stipulate that `N > 2`."
      ],
      "metadata": {
        "id": "_Iv5MJxn-8Ar"
      }
    },
    {
      "cell_type": "code",
      "execution_count": null,
      "metadata": {
        "id": "N949F6Uo_3jt"
      },
      "outputs": [],
      "source": [
        "#game rules\n",
        "rules = {\n",
        "    'outcomes':['prize', 'goat'],\n",
        "    'must_have_one_and_only_one_outcome':'prize',\n",
        "    'states':['open', 'closed', 'player'],\n",
        "    'min_doors':3 #N > 2\n",
        "}"
      ]
    },
    {
      "cell_type": "markdown",
      "source": [
        "###The Game algorithm:\n",
        "\n",
        "\n",
        "1.   Define the number of the doors;\n",
        "2.   Create all the doors with `goats` as outcome and `closed` state;\n",
        "3.   Randomly change one of the door's outcome to `prize`;\n",
        "4.   The player must randomly select one of the doors. Its state changes to `player`;\n",
        "5.   The game **must `open` a door** with a `goat` outcome that is NOT the `player`'s door;\n",
        "6.   Player may `switch` it's door. They states switches;\n",
        "7.   If *only TWO doors* remains closed, the game is finished and the player takes the door's outcome;\n",
        "8.   Go to step 5.\n",
        "\n",
        "\n"
      ],
      "metadata": {
        "id": "LJ8Do4wZKREb"
      }
    },
    {
      "cell_type": "markdown",
      "source": [
        "## Building the game\n",
        "---\n",
        "\n",
        "The game will implement a simple state machine that implements the algorithm:\n",
        "\n",
        "\n",
        "> Every step will be translated to an action;\n",
        "\n",
        "> The tupple (state, action, state) will determine possible transactions;\n",
        "\n",
        "> States will represent the game data snapshot.\n"
      ],
      "metadata": {
        "id": "BqUod4thJsH2"
      }
    },
    {
      "cell_type": "code",
      "source": [
        "!pip install transitions"
      ],
      "metadata": {
        "id": "QBGMYEJw50qx",
        "outputId": "dab58c4e-24d3-485f-faf0-0e0b758acc87",
        "colab": {
          "base_uri": "https://localhost:8080/"
        }
      },
      "execution_count": null,
      "outputs": [
        {
          "output_type": "stream",
          "name": "stdout",
          "text": [
            "Looking in indexes: https://pypi.org/simple, https://us-python.pkg.dev/colab-wheels/public/simple/\n",
            "Collecting transitions\n",
            "  Downloading transitions-0.9.0-py2.py3-none-any.whl (97 kB)\n",
            "\u001b[2K     \u001b[90m━━━━━━━━━━━━━━━━━━━━━━━━━━━━━━━━━━━━━━━━\u001b[0m \u001b[32m97.7/97.7 KB\u001b[0m \u001b[31m5.3 MB/s\u001b[0m eta \u001b[36m0:00:00\u001b[0m\n",
            "\u001b[?25hRequirement already satisfied: six in /usr/local/lib/python3.9/dist-packages (from transitions) (1.15.0)\n",
            "Installing collected packages: transitions\n",
            "Successfully installed transitions-0.9.0\n"
          ]
        }
      ]
    },
    {
      "cell_type": "code",
      "source": [
        "from typing import Dict, List\n",
        "from transitions import Machine\n",
        "import random\n",
        "\n",
        "\n",
        "class MontyHallGame:\n",
        "    states = ['start', 'player_turn', 'game_turn', 'end']\n",
        "    transitions = [\n",
        "        {   # player_turn => first door\n",
        "            'trigger': 'player_choice',\n",
        "            'source': 'start',\n",
        "            'dest': 'player_turn',\n",
        "            'before': 'chose_door',\n",
        "        },\n",
        "        {   # game_turn => open a goat door\n",
        "            'trigger': 'open_door',\n",
        "            'source': 'player_turn',\n",
        "            'dest': 'game_turn',\n",
        "            'before': 'reveal_goat_door',\n",
        "            'conditions': ['has_3_or_more_closed'],\n",
        "        },\n",
        "        {   # player_turn => will player switch doors?\n",
        "            'trigger': 'player_choice',\n",
        "            'source': 'game_turn',\n",
        "            'dest': 'player_turn',\n",
        "            'before': 'switch_door',\n",
        "            'conditions': ['has_3_or_more_closed'],\n",
        "        },\n",
        "        {   # end state => player win/lose\n",
        "            'trigger': 'open_door',\n",
        "            'source': 'player_turn',\n",
        "            'dest': 'end',\n",
        "            'before': 'reveal_prize_door',\n",
        "            'unless': ['has_3_or_more_closed'],\n",
        "        },\n",
        "    ]\n",
        "\n",
        "    def __init__(self, rules: Dict, num_doors: int) -> None:\n",
        "        self.num_doors = num_doors\n",
        "        assert self.num_doors >= rules['min_doors']\n",
        "\n",
        "        self.prize = rules['must_have_one_and_only_one_outcome']\n",
        "        # drop the prize from outcome_list\n",
        "        self.outcome_list = list(filter(lambda f: f != self.prize, rules['outcomes']))\n",
        "        # initialize all doors with random outcome but prize and closed\n",
        "        self.doors = [{'outcome': self.outcome_list[random.randint(0, len(self.outcome_list) - 1)], 'state': 'closed'} for _ in range(num_doors)]\n",
        "        # randomly set one door as the prize one\n",
        "        self.prize_door_index = random.randint(0, num_doors - 1)\n",
        "        self.doors[self.prize_door_index]['outcome'] = 'prize'\n",
        "\n",
        "        # self.player_door_index = None\n",
        "        # self.open_door_index = None\n",
        "        # self.remaining_closed_doors = None\n",
        "\n",
        "        # set the state machine\n",
        "        self.machine = Machine(model=self, states=self.states, transitions=self.transitions, initial='start')\n",
        "\n",
        "    def chose_door(self):\n",
        "        print(f\"Choose a door (0-{self.num_doors-1}):\")\n",
        "\n",
        "    def reveal_goat_door(self):\n",
        "        closed_doors = [i for i, door in enumerate(self.doors) if door['state'] == 'closed']\n",
        "        closed_doors.remove(self.player_door_index)\n",
        "        closed_doors.remove(self.prize_door_index)\n",
        "        self.open_door_index = random.choice(closed_doors)\n",
        "        self.doors[self.open_door_index]['state'] = 'open'\n",
        "        print(f\"Door {self.open_door_index} has a goat behind it!\")\n",
        "\n",
        "    def switch_door(self):\n",
        "        remaining_closed_doors = [i for i, door in enumerate(self.doors) if door['state'] == 'closed']\n",
        "        remaining_closed_doors.remove(self.player_door_index)\n",
        "        remaining_closed_doors.remove(self.open_door_index)\n",
        "        self.player_door_index = remaining_closed_doors[0]\n",
        "        print(f\"You switched to door {self.player_door_index}.\")\n",
        "\n",
        "    def reveal_prize_door(self):\n",
        "        if self.doors[self.player_door_index]['outcome'] == 'prize':\n",
        "            print(\"Congratulations, you won the prize!\")\n",
        "        else:\n",
        "            print(\"Sorry, you didn't win the prize.\")\n",
        "\n",
        "    def has_3_or_more_closed(self) -> bool:\n",
        "        closed_doors = [door for door in self.doors if door['state'] == 'closed']\n",
        "        return len(closed_doors) >= 3\n",
        "\n"
      ],
      "metadata": {
        "id": "eGSYEY9ptXXe"
      },
      "execution_count": null,
      "outputs": []
    },
    {
      "cell_type": "code",
      "source": [
        "from transitions import Machine\n",
        "import random\n",
        "\n",
        "class MontyHallGame:\n",
        "    states=['start', 'player_turn', 'game_turn', 'end']\n",
        "    transitions=[\n",
        "        {   #player_turn => first door\n",
        "            'trigger':'player_choice', \n",
        "            'source':'start', \n",
        "            'dest':'player_turn',\n",
        "            'before':'chose_door',\n",
        "         },\n",
        "         {  #game_turn => open a goat door\n",
        "            'trigger':'open_door', \n",
        "            'source':'player_turn', \n",
        "            'dest':'game_turn',\n",
        "            'before':'reveal_goat_door',\n",
        "            'condition':'has_3_or_more_closed'\n",
        "         },\n",
        "         {  #player_turn => will player switch doors?\n",
        "            'trigger':'player_choice', \n",
        "            'source':'game_turn', \n",
        "            'dest':'player_turn',\n",
        "            'before':'switch_door',\n",
        "            'condition':'has_3_or_more_closed'\n",
        "         },\n",
        "         {  #end state => player win/lose\n",
        "            'trigger':'open_door', \n",
        "            'source':'player_turn', \n",
        "            'dest':'end',\n",
        "            'before':'reveal_prize_door',\n",
        "            'unless':'has_3_or_more_closed'\n",
        "         }\n",
        "\n",
        "    ]\n",
        "\n",
        "    def __init__(self, rules, num_doors):\n",
        "\n",
        "        self.num_doors = num_doors\n",
        "        assert self.num_doors >= rules['min_doors']\n",
        "\n",
        "        self.prize = rules['must_have_one_and_only_one_outcome']\n",
        "\n",
        "        #drop the prize from outcome_list\n",
        "        self.outcome_list = filter(lambda f: f != self.prize, rules['outcomes'])\n",
        "\n",
        "        #initialize all doors with random outcome but prize and closed\n",
        "        self.doors = [{'outcome': self.outcome_list[random.randint(0, len(self.outcome_list) - 1)], 'state': 'closed'} for _ in range(num_doors)]\n",
        "\n",
        "        #randomly set one door as the prize one\n",
        "        self.prize_door_index = random.randint(0, num_doors - 1)\n",
        "        self.doors[self.prize_door_index]['outcome'] = 'prize'\n",
        "\n",
        "        # self.player_door_index = None\n",
        "        # self.open_door_index = None\n",
        "        # self.remaining_closed_doors = None\n",
        "\n",
        "        #set the state machine\n",
        "        self.machine = Machine(model=self, \n",
        "                               states=self.states,\n",
        "                               transitions=self.transitions\n",
        "                               initial='start')\n",
        "\n"
      ],
      "metadata": {
        "id": "M_EUy8ocwics"
      },
      "execution_count": null,
      "outputs": []
    }
  ]
}